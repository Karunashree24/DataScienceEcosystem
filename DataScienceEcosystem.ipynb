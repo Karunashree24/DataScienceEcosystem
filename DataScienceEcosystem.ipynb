{
  "nbformat": 4,
  "nbformat_minor": 0,
  "metadata": {
    "colab": {
      "provenance": []
    },
    "kernelspec": {
      "name": "python3",
      "display_name": "Python 3"
    },
    "language_info": {
      "name": "python"
    }
  },
  "cells": [
    {
      "cell_type": "markdown",
      "source": [
        "Data Science Tools and **Ecosystem**"
      ],
      "metadata": {
        "id": "fmHRyn5PKm9a"
      }
    },
    {
      "cell_type": "markdown",
      "source": [
        "Introduction\n",
        "This notebook provides an overview of the tools and ecosystem in the field of data science. It covers popular languages such as Python, R, and SQL, along with commonly used libraries like NumPy, pandas, and scikit-learn. The notebook also explores arithmetic expressions in Python and demonstrates examples of their evaluation. By the end, you'll have a solid understanding of the foundational elements in the data science landscape and how to perform basic arithmetic operations in Python."
      ],
      "metadata": {
        "id": "1Gab8bUNLmQq"
      }
    },
    {
      "cell_type": "markdown",
      "source": [
        "**Objectives**\n",
        "\n",
        "\n",
        "*   Langauages used by data scientist.\n",
        "*   Libraries used by data scientist.\n",
        "*   Tools used in data science.\n",
        "*   Examples for arthmetic operations.\n",
        "*   code cell that converts minutes to hours\n",
        "*   code cell that multiplies and adds numbers\n",
        "\n",
        "\n",
        "\n",
        "\n"
      ],
      "metadata": {
        "id": "JxjTag48RTnJ"
      }
    },
    {
      "cell_type": "markdown",
      "source": [
        "Some of the popular languages that Data Scientists use are:\n",
        "\n",
        "1. Python: Python is one of the most popular languages for data science due to its simplicity, readability, and extensive ecosystem of libraries such as NumPy, pandas, scikit-learn, TensorFlow, and PyTorch.\n",
        "\n",
        "2. R: R is a language specifically designed for statistical computing and graphics. It is widely used in academia and research for its rich statistical capabilities and extensive collection of packages for data analysis and visualization.\n",
        "\n",
        "3. SQL: SQL (Structured Query Language) is a domain-specific language used for managing and querying relational databases. Data scientists often use SQL to extract, manipulate, and analyze data stored in databases.\n",
        "\n",
        "4. SAS: SAS (Statistical Analysis System) is a software suite that includes a programming language for statistical analysis, data management, and predictive modeling. It is commonly used in industries such as healthcare, finance, and market research.\n",
        "\n",
        "These are just a few examples of languages used by data scientists, and the choice of language depends on the specific requirements, preferences, and context of the project or organization.\n",
        "\n",
        "\n",
        "\n",
        "\n",
        "\n",
        "\n"
      ],
      "metadata": {
        "id": "rKNINrQNNDyU"
      }
    },
    {
      "cell_type": "markdown",
      "source": [
        "Some of the commonly used libraries used by Data Scientists include:\n",
        "\n",
        "1. NumPy: NumPy is a powerful library for efficient numerical computing and array manipulation in Python.\n",
        "2. pandas: pandas is a versatile library for data manipulation and analysis, providing data structures like DataFrames to handle structured data effectively.\n",
        "3. scikit-learn: scikit-learn is a popular machine learning library that offers a comprehensive set of algorithms and tools for building and evaluating predictive models.\n",
        "4. TensorFlow: TensorFlow is an open-source deep learning library that provides a flexible framework for developing and training neural networks across various platforms."
      ],
      "metadata": {
        "id": "K1FduCJ5Nxhk"
      }
    },
    {
      "cell_type": "markdown",
      "source": [
        "| Data Science Tools    |\n",
        "|-----------------------|\n",
        "| Jupyter Notebook      |\n",
        "| RStudio               |\n",
        "| PyCharm Community     |\n"
      ],
      "metadata": {
        "id": "DxOYIyiaOoeu"
      }
    },
    {
      "cell_type": "markdown",
      "source": [
        "### Below are a few examples of evaluating arithmetic expressions in Python.\n",
        "\n",
        "Arithmetic expressions are commonly used in programming to perform mathematical operations. Here are some examples of evaluating arithmetic expressions in Python:\n",
        "\n",
        "1. Addition: `3 + 5` equals 8.\n",
        "2. Subtraction: `10 - 4` equals 6.\n",
        "3. Multiplication: `2 * 6` equals 12.\n",
        "4. Division: `15 / 3` equals 5.\n",
        "5. Exponentiation: `2 ** 3` equals 8.\n",
        "6. Modulo: `15 % 4` equals 3.\n",
        "\n",
        "These examples showcase basic arithmetic operations, and Python provides various operators and functions to perform complex calculations.\n"
      ],
      "metadata": {
        "id": "0jBfshLQPokz"
      }
    },
    {
      "cell_type": "code",
      "source": [
        "# This is a simple arithmetic expression to multiply then add integers\n",
        "result = (3 * 4) + 5\n",
        "result\n"
      ],
      "metadata": {
        "colab": {
          "base_uri": "https://localhost:8080/"
        },
        "id": "NvdV3HIkQQs1",
        "outputId": "afeb66e7-7af3-4890-ba8d-e38c90ec558d"
      },
      "execution_count": 1,
      "outputs": [
        {
          "output_type": "execute_result",
          "data": {
            "text/plain": [
              "17"
            ]
          },
          "metadata": {},
          "execution_count": 1
        }
      ]
    },
    {
      "cell_type": "code",
      "source": [
        "# This will convert 200 minutes to hours by dividing by 60\n",
        "minutes = 200\n",
        "hours = minutes / 60\n",
        "hours\n"
      ],
      "metadata": {
        "colab": {
          "base_uri": "https://localhost:8080/"
        },
        "id": "Es6MNN5fLAKs",
        "outputId": "60cd3256-73aa-46d9-eef8-b2e1a713389a"
      },
      "execution_count": 2,
      "outputs": [
        {
          "output_type": "execute_result",
          "data": {
            "text/plain": [
              "3.3333333333333335"
            ]
          },
          "metadata": {},
          "execution_count": 2
        }
      ]
    },
    {
      "cell_type": "markdown",
      "source": [
        "# Author Name:\n",
        "Karunashree Nagaraj"
      ],
      "metadata": {
        "id": "PMlO84TWT3Rc"
      }
    },
    {
      "cell_type": "code",
      "source": [],
      "metadata": {
        "id": "2FhnbTiCQx5O"
      },
      "execution_count": null,
      "outputs": []
    }
  ]
}